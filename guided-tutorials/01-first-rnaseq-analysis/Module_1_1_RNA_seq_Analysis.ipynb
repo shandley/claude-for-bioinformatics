{
 "cells": [
  {
   "cell_type": "markdown",
   "metadata": {
    "id": "view-in-github",
    "colab_type": "text"
   },
   "source": [
    "<a href=\"https://colab.research.google.com/github/shandley/claude-for-bioinformatics/blob/master/guided-tutorials/01-first-rnaseq-analysis/Module_1_1_RNA_seq_Analysis.ipynb\" target=\"_parent\"><img src=\"https://colab.research.google.com/assets/colab-badge.svg\" alt=\"Open In Colab\"/></a>"
   ]
  },
  {
   "cell_type": "markdown",
   "metadata": {
    "id": "title-header"
   },
   "source": [
    "# Module 1.1: Your First RNA-seq Analysis with Claude Code\n",
    "\n",
    "## 🎯 Learning Objectives\n",
    "By the end of this tutorial, you will:\n",
    "- ✅ Set up a bioinformatics analysis environment in the cloud\n",
    "- ✅ Download and examine real RNA-seq data\n",
    "- ✅ Run quality control analysis using industry-standard tools\n",
    "- ✅ Interpret bioinformatics results with confidence\n",
    "- ✅ Understand how Claude Code enhances bioinformatics workflows\n",
    "\n",
    "**⏱️ Estimated Time**: 30-45 minutes  \n",
    "**💻 Requirements**: Google account (you're already here!)  \n",
    "**🔧 Software**: All tools installed automatically in this notebook\n",
    "\n",
    "---\n",
    "\n",
    "## ⚠️ Prerequisites\n",
    "\n",
    "### Required Reading (10 minutes)\n",
    "**IMPORTANT**: Before starting this tutorial, you should understand Claude Code basics:\n",
    "- [**Claude Code Best Practices**](https://github.com/shandley/claude-for-bioinformatics/blob/master/claude-code-best-practices.md)\n",
    "\n",
    "This covers essential setup, installation, and basic usage patterns. While this Colab tutorial runs independently, understanding Claude Code fundamentals will help you apply these skills in your own research.\n",
    "\n",
    "---\n",
    "\n",
    "## 🧬 About This Tutorial\n",
    "\n",
    "We'll analyze a small but realistic RNA-seq dataset using the same tools and workflows used in professional bioinformatics:\n",
    "\n",
    "- **Sample Data**: 10,000 paired-end reads from human cell line\n",
    "- **Tools**: FastQC, MultiQC (industry standards for quality control)\n",
    "- **Skills**: Real-world quality assessment and interpretation\n",
    "- **Output**: Publication-quality QC reports you can download\n",
    "\n",
    "Everything runs in this notebook - no software installation required on your computer!"
   ]
  },
  {
   "cell_type": "markdown",
   "metadata": {
    "id": "setup-section"
   },
   "source": [
    "---\n",
    "\n",
    "# 🛠️ Step 1: Environment Setup\n",
    "\n",
    "First, we'll install the bioinformatics tools we need. This is exactly what you'd do in a real research environment!\n",
    "\n",
    "**📚 Learning Note**: In professional bioinformatics, tool installation and environment management are crucial skills. We're learning the real process here."
   ]
  },
  {
   "cell_type": "code",
   "execution_count": null,
   "metadata": {
    "id": "install-conda",
    "colab": {
     "base_uri": "https://localhost:8080/"
    }
   },
   "outputs": [],
   "source": [
    "# Install conda package manager (this might take 2-3 minutes)\n",
    "print(\"🔧 Installing conda package manager...\")\n",
    "!wget -q https://repo.anaconda.com/miniconda/Miniconda3-latest-Linux-x86_64.sh\n",
    "!bash Miniconda3-latest-Linux-x86_64.sh -b -p /content/miniconda\n",
    "!rm Miniconda3-latest-Linux-x86_64.sh\n",
    "\n",
    "# Add conda to PATH\n",
    "import os\n",
    "os.environ['PATH'] = '/content/miniconda/bin:' + os.environ['PATH']\n",
    "\n",
    "print(\"✅ Conda installation complete!\")"
   ]
  },
  {
   "cell_type": "code",
   "execution_count": null,
   "metadata": {
    "id": "setup-bioconda"
   },
   "outputs": [],
   "source": [
    "# Set up bioconda channel (where bioinformatics tools live)\n",
    "print(\"📦 Configuring bioinformatics software channels...\")\n",
    "!conda config --add channels defaults\n",
    "!conda config --add channels bioconda\n",
    "!conda config --add channels conda-forge\n",
    "\n",
    "print(\"✅ Bioconda channels configured!\")\n",
    "print(\"🧬 Ready to install bioinformatics tools\")"
   ]
  },
  {
   "cell_type": "code",
   "execution_count": null,
   "metadata": {
    "id": "install-tools"
   },
   "outputs": [],
   "source": [
    "# Install FastQC and MultiQC (the tools we'll use for quality control)\n",
    "print(\"🧪 Installing bioinformatics tools...\")\n",
    "print(\"   - FastQC: Industry standard for sequencing quality control\")\n",
    "print(\"   - MultiQC: Combines reports from multiple tools\")\n",
    "print(\"\")\n",
    "print(\"⏱️ This may take 3-5 minutes...\")\n",
    "\n",
    "!conda install -y fastqc multiqc\n",
    "\n",
    "print(\"\")\n",
    "print(\"✅ Tool installation complete!\")\n",
    "\n",
    "# Verify installations\n",
    "print(\"🔍 Verifying tool installations:\")\n",
    "!fastqc --version\n",
    "!multiqc --version"
   ]
  },
  {
   "cell_type": "markdown",
   "metadata": {
    "id": "data-section"
   },
   "source": [
    "---\n",
    "\n",
    "# 📁 Step 2: Download Sample Data\n",
    "\n",
    "Now we'll download realistic RNA-seq data designed for learning. This data has the same characteristics as real research data but is small enough to process quickly.\n",
    "\n",
    "**🔬 About Our Sample Data**:\n",
    "- **Type**: Paired-end RNA-seq reads from human cell line\n",
    "- **Size**: 10,000 read pairs (~1.5MB total)\n",
    "- **Processing time**: Under 1 minute for quality control\n",
    "- **Educational features**: Realistic quality patterns for learning interpretation"
   ]
  },
  {
   "cell_type": "code",
   "metadata": {
    "id": "download-data"
   },
   "outputs": [],
   "source": "# Create directory structure (like a real bioinformatics project)\nprint(\"📁 Setting up project structure...\")\n!mkdir -p data/raw results/qc\n\n# Download sample FASTQ files with validation\nprint(\"⬇️ Downloading sample RNA-seq data...\")\n\n# Use curl instead of wget for better binary file handling\nprint(\"   Downloading R1 reads...\")\n!curl -L -o data/raw/sample_R1.fastq.gz \"https://github.com/shandley/claude-for-bioinformatics/raw/master/guided-tutorials/01-first-rnaseq-analysis/sample-data/sample_R1.fastq.gz\"\n\nprint(\"   Downloading R2 reads...\")\n!curl -L -o data/raw/sample_R2.fastq.gz \"https://github.com/shandley/claude-for-bioinformatics/raw/master/guided-tutorials/01-first-rnaseq-analysis/sample-data/sample_R2.fastq.gz\"\n\nprint(\"🔍 Validating downloaded files...\")\n\n# Test gzip integrity\nimport subprocess\nimport sys\n\ndef test_gzip_file(filename):\n    try:\n        result = subprocess.run(['gunzip', '-t', filename], capture_output=True, text=True)\n        return result.returncode == 0\n    except:\n        return False\n\n# Validate R1 file\nif test_gzip_file('data/raw/sample_R1.fastq.gz'):\n    print(\"✅ R1 file integrity OK\")\nelse:\n    print(\"❌ R1 file corrupted, re-downloading...\")\n    !curl -L -o data/raw/sample_R1.fastq.gz \"https://github.com/shandley/claude-for-bioinformatics/raw/master/guided-tutorials/01-first-rnaseq-analysis/sample-data/sample_R1.fastq.gz\"\n\n# Validate R2 file\nif test_gzip_file('data/raw/sample_R2.fastq.gz'):\n    print(\"✅ R2 file integrity OK\")\nelse:\n    print(\"❌ R2 file corrupted, re-downloading...\")\n    !curl -L -o data/raw/sample_R2.fastq.gz \"https://github.com/shandley/claude-for-bioinformatics/raw/master/guided-tutorials/01-first-rnaseq-analysis/sample-data/sample_R2.fastq.gz\"\n\nprint(\"✅ Data download and validation complete!\")\n\n# Examine what we downloaded\nprint(\"\\n📊 Sample data overview:\")\n!ls -lh data/raw/\n\nprint(\"\\n🔍 Quick peek at the data format:\")\n# Test if we can read the file first\ntry:\n    !gunzip -c data/raw/sample_R1.fastq.gz | head -8\nexcept:\n    print(\"❌ Cannot read compressed file, trying to diagnose...\")\n    !file data/raw/sample_R1.fastq.gz\n    print(\"File size:\")\n    !ls -la data/raw/sample_R1.fastq.gz"
  },
  {
   "cell_type": "markdown",
   "metadata": {
    "id": "data-explanation"
   },
   "source": [
    "**📚 Understanding FASTQ Format**:\n",
    "\n",
    "Each read has 4 lines:\n",
    "1. `@HWI-ST1276...` - Read identifier (like a barcode)\n",
    "2. `GATAGGCATA...` - DNA sequence (A, T, G, C)\n",
    "3. `+` - Separator line\n",
    "4. `IEBFGFCHEG...` - Quality scores (higher letters = better quality)\n",
    "\n",
    "This is the standard format for raw sequencing data worldwide!"
   ]
  },
  {
   "cell_type": "markdown",
   "metadata": {
    "id": "claude-integration"
   },
   "source": [
    "---\n",
    "\n",
    "# 🤖 Step 3: Claude Code Integration\n",
    "\n",
    "In a real workflow, this is where you'd use Claude Code to plan your analysis. Let's simulate how that conversation would go:\n",
    "\n",
    "**🗣️ Example Claude Code Interaction**:\n",
    "\n",
    "```\n",
    "You: I have paired-end RNA-seq FASTQ files and need to run comprehensive \n",
    "     quality control analysis.\n",
    "\n",
    "Claude Code: I'll help you run FastQC and MultiQC for quality control. \n",
    "             Here's the workflow:\n",
    "\n",
    "1. Run FastQC on both R1 and R2 files\n",
    "2. Generate MultiQC report to combine results  \n",
    "3. Interpret key quality metrics\n",
    "4. Determine if data needs preprocessing\n",
    "\n",
    "Let me provide the specific commands...\n",
    "```\n",
    "\n",
    "**💡 In this tutorial**: We'll run the analysis directly, but in your real research, Claude Code would provide the exact commands and help interpret results."
   ]
  },
  {
   "cell_type": "markdown",
   "metadata": {
    "id": "analysis-section"
   },
   "source": [
    "---\n",
    "\n",
    "# 🔬 Step 4: Quality Control Analysis\n",
    "\n",
    "Now we'll run the same quality control analysis used in professional bioinformatics labs worldwide. FastQC analyzes sequence quality, and MultiQC combines the reports into a beautiful summary.\n",
    "\n",
    "**⚡ This is the exciting part - we're about to generate real research-quality results!**"
   ]
  },
  {
   "cell_type": "code",
   "metadata": {
    "id": "run-fastqc"
   },
   "outputs": [],
   "source": "# Run FastQC on both files\nprint(\"🧪 Running FastQC quality control analysis...\")\n\n# First, let's verify our files are valid\nprint(\"🔍 Pre-flight check...\")\nimport os\n\n# Check file sizes\nr1_size = os.path.getsize('data/raw/sample_R1.fastq.gz') if os.path.exists('data/raw/sample_R1.fastq.gz') else 0\nr2_size = os.path.getsize('data/raw/sample_R2.fastq.gz') if os.path.exists('data/raw/sample_R2.fastq.gz') else 0\n\nprint(f\"   R1 file size: {r1_size:,} bytes\")\nprint(f\"   R2 file size: {r2_size:,} bytes\")\n\nif r1_size < 1000 or r2_size < 1000:\n    print(\"❌ Files appear to be too small or corrupted\")\n    print(\"🔄 Re-downloading files...\")\n    !curl -L -o data/raw/sample_R1.fastq.gz \"https://github.com/shandley/claude-for-bioinformatics/raw/master/guided-tutorials/01-first-rnaseq-analysis/sample-data/sample_R1.fastq.gz\"\n    !curl -L -o data/raw/sample_R2.fastq.gz \"https://github.com/shandley/claude-for-bioinformatics/raw/master/guided-tutorials/01-first-rnaseq-analysis/sample-data/sample_R2.fastq.gz\"\n\nprint(\"   Analyzing forward reads (R1)...\")\nfastqc_r1_result = os.system('fastqc data/raw/sample_R1.fastq.gz -o results/qc/ -q')\n\nprint(\"   Analyzing reverse reads (R2)...\")\nfastqc_r2_result = os.system('fastqc data/raw/sample_R2.fastq.gz -o results/qc/ -q')\n\n# Check if FastQC succeeded\nif fastqc_r1_result != 0 or fastqc_r2_result != 0:\n    print(\"⚠️ FastQC had issues with compressed files, trying uncompressed...\")\n    \n    # Decompress and try again\n    !gunzip -c data/raw/sample_R1.fastq.gz > data/raw/sample_R1.fastq\n    !gunzip -c data/raw/sample_R2.fastq.gz > data/raw/sample_R2.fastq\n    \n    print(\"   Re-running FastQC on uncompressed files...\")\n    !fastqc data/raw/sample_R1.fastq -o results/qc/ -q\n    !fastqc data/raw/sample_R2.fastq -o results/qc/ -q\n    \n    # Clean up uncompressed files to save space\n    !rm -f data/raw/sample_R1.fastq data/raw/sample_R2.fastq\n\nprint(\"✅ FastQC analysis complete!\")\n\n# Check what files were created\nprint(\"\\n📁 Generated files:\")\n!ls -la results/qc/\n\n# Verify we have the expected outputs\nfastqc_outputs = [f for f in os.listdir('results/qc/') if f.endswith('_fastqc.html')]\nif fastqc_outputs:\n    print(f\"✅ Successfully generated {len(fastqc_outputs)} FastQC reports\")\n    for output in fastqc_outputs:\n        print(f\"   📄 {output}\")\nelse:\n    print(\"❌ No FastQC HTML reports found\")\n    print(\"🔍 Checking for any FastQC outputs:\")\n    !ls results/qc/*fastqc* 2>/dev/null || echo \"No FastQC outputs found\""
  },
  {
   "cell_type": "code",
   "metadata": {
    "id": "run-multiqc"
   },
   "outputs": [],
   "source": "# Run MultiQC to combine the reports\nprint(\"📊 Creating combined MultiQC report...\")\n\n# Check if we have FastQC reports to process\nimport os\nfastqc_reports = [f for f in os.listdir('results/qc/') if f.endswith('_fastqc.zip')]\n\nif len(fastqc_reports) >= 2:\n    print(f\"✅ Found {len(fastqc_reports)} FastQC reports to combine\")\n    !multiqc results/qc/ -o results/qc/ -q\n    print(\"✅ MultiQC report generated!\")\n    \n    print(\"\\n📄 Final report files:\")\n    html_reports = [f for f in os.listdir('results/qc/') if f.endswith('.html')]\n    for report in html_reports:\n        file_size = os.path.getsize(f'results/qc/{report}')\n        print(f\"   📄 {report} ({file_size:,} bytes)\")\n        \nelif len(fastqc_reports) > 0:\n    print(f\"⚠️ Only found {len(fastqc_reports)} FastQC report(s)\")\n    print(\"🔄 Running MultiQC anyway...\")\n    !multiqc results/qc/ -o results/qc/ -q\n    print(\"✅ MultiQC report generated (with available data)\")\n    \nelse:\n    print(\"❌ No FastQC reports found to process with MultiQC\")\n    print(\"🔍 This suggests the FastQC analysis failed\")\n    \n    print(\"\\n🛠️ Troubleshooting information:\")\n    print(\"📁 Contents of results/qc/:\")\n    !ls -la results/qc/\n    \n    print(\"\\n📏 Data file information:\")\n    !ls -lh data/raw/\n    \n    print(\"\\n🔍 Testing file compression:\")\n    !file data/raw/*.gz\n    \n    print(\"\\n💡 Alternative: Creating a summary of what we attempted\")\n    \n    # Create a simple HTML summary even if FastQC failed\n    summary_html = \"\"\"\n    <html>\n    <head><title>Tutorial Summary - FastQC Analysis</title></head>\n    <body>\n    <h1>RNA-seq Quality Control Tutorial</h1>\n    <h2>Analysis Attempted</h2>\n    <p>This tutorial attempted to run FastQC quality control analysis on sample RNA-seq data.</p>\n    <h2>Sample Data</h2>\n    <ul>\n    <li>Sample R1: Forward reads from paired-end RNA-seq</li>\n    <li>Sample R2: Reverse reads from paired-end RNA-seq</li>\n    <li>Data source: Educational dataset for learning bioinformatics</li>\n    </ul>\n    <h2>Tools Used</h2>\n    <ul>\n    <li>FastQC: Sequence quality control analysis</li>\n    <li>MultiQC: Report aggregation</li>\n    </ul>\n    <p><em>Note: If you're seeing this summary, there may have been an issue with the sample data download. \n    In a real analysis, you would troubleshoot the data quality and re-run the analysis.</em></p>\n    </body>\n    </html>\n    \"\"\"\n    \n    with open('results/qc/tutorial_summary.html', 'w') as f:\n        f.write(summary_html)\n    \n    print(\"📄 Created tutorial summary: results/qc/tutorial_summary.html\")\n\n# Show what we have\nprint(\"\\n📋 All files in results/qc/:\")\n!ls -la results/qc/"
  },
  {
   "cell_type": "code",
   "source": "# BACKUP PLAN: Generate synthetic data if downloads failed\nprint(\"🛠️ Backup Plan: If sample data download failed, let's create synthetic data for learning\")\n\nimport os\nfastqc_outputs = [f for f in os.listdir('results/qc/') if f.endswith('_fastqc.html')]\n\nif len(fastqc_outputs) == 0:\n    print(\"🔄 No FastQC outputs detected, creating synthetic FASTQ data for demonstration...\")\n    \n    # Generate small synthetic FASTQ files for educational purposes\n    synthetic_r1 = \"\"\"@SEQ_ID_1\nGATCGGCGATCGGCGATCGGCGATCGGCGATCGGCGATCGGCGATCGGCGATCGGCGATCGGCGATCGGCGAT\n+\nIIIIIIIIIIIIIIIIIIIIIIIIIIIIIIIIIIIIIIIIIIIIIIIIIIIIIIIIIIIIIIIIIIIIII\n@SEQ_ID_2\nATCGATCGATCGATCGATCGATCGATCGATCGATCGATCGATCGATCGATCGATCGATCGATCGATCGATCG\n+\nHHHHHHHHHHHHHHHHHHHHHHHHHHHHHHHHHHHHHHHHHHHHHHHHHHHHHHHHHHHHHHHHHHHHH\n@SEQ_ID_3\nCGATCGATCGATCGATCGATCGATCGATCGATCGATCGATCGATCGATCGATCGATCGATCGATCGATCGAT\n+\nGGGGGGGGGGGGGGGGGGGGGGGGGGGGGGGGGGGGGGGGGGGGGGGGGGGGGGGGGGGGGGGGGGGGG\n\"\"\"\n    \n    synthetic_r2 = \"\"\"@SEQ_ID_1\nATCGATCGATCGATCGATCGATCGATCGATCGATCGATCGATCGATCGATCGATCGATCGATCGATCGATCG\n+\nHHHHHHHHHHHHHHHHHHHHHHHHHHHHHHHHHHHHHHHHHHHHHHHHHHHHHHHHHHHHHHHHHHHHH\n@SEQ_ID_2\nCGATCGATCGATCGATCGATCGATCGATCGATCGATCGATCGATCGATCGATCGATCGATCGATCGATCGAT\n+\nGGGGGGGGGGGGGGGGGGGGGGGGGGGGGGGGGGGGGGGGGGGGGGGGGGGGGGGGGGGGGGGGGGGGG\n@SEQ_ID_3\nGATCGGCGATCGGCGATCGGCGATCGGCGATCGGCGATCGGCGATCGGCGATCGGCGATCGGCGATCGGCGAT\n+\nFFFFFFFFFFFFFFFFFFFFFFFFFFFFFFFFFFFFFFFFFFFFFFFFFFFFFFFFFFFFFFFFFFFFF\n\"\"\"\n    \n    # Write synthetic data\n    with open('data/raw/sample_R1.fastq', 'w') as f:\n        f.write(synthetic_r1)\n    \n    with open('data/raw/sample_R2.fastq', 'w') as f:\n        f.write(synthetic_r2)\n    \n    print(\"📄 Created synthetic FASTQ files for demonstration\")\n    print(\"🧪 Running FastQC on synthetic data...\")\n    \n    !fastqc data/raw/sample_R1.fastq -o results/qc/ -q\n    !fastqc data/raw/sample_R2.fastq -o results/qc/ -q\n    \n    print(\"📊 Running MultiQC on synthetic results...\")\n    !multiqc results/qc/ -o results/qc/ -q\n    \n    print(\"✅ Analysis complete with synthetic data!\")\n    print(\"💡 This demonstrates the workflow even if the original sample files had issues\")\n    \n    # Show results\n    print(\"\\n📁 Generated files with synthetic data:\")\n    !ls -la results/qc/\n    \nelse:\n    print(\"✅ FastQC analysis succeeded with original sample data!\")\n    print(f\"   Found {len(fastqc_outputs)} FastQC HTML reports\")",
   "metadata": {},
   "outputs": []
  },
  {
   "cell_type": "markdown",
   "metadata": {
    "id": "results-section"
   },
   "source": [
    "---\n",
    "\n",
    "# 📈 Step 5: Viewing and Interpreting Results\n",
    "\n",
    "Congratulations! You've just generated publication-quality quality control reports. Let's examine what we found.\n",
    "\n",
    "**🎉 You now have the same reports that professional bioinformaticians create for every RNA-seq project!**"
   ]
  },
  {
   "cell_type": "code",
   "execution_count": null,
   "metadata": {
    "id": "display-results"
   },
   "outputs": [],
   "source": [
    "# Let's examine the summary statistics\n",
    "print(\"📊 Quality Control Summary\")\n",
    "print(\"=\" * 50)\n",
    "\n",
    "# Read MultiQC general stats if available\n",
    "import os\n",
    "if os.path.exists('results/qc/multiqc_data/multiqc_general_stats.txt'):\n",
    "    print(\"📈 MultiQC General Statistics:\")\n",
    "    !head -5 results/qc/multiqc_data/multiqc_general_stats.txt\n",
    "else:\n",
    "    print(\"📁 Report files generated - ready for viewing!\")\n",
    "\n",
    "print(\"\\n🔍 Individual FastQC reports created for:\")\n",
    "!ls results/qc/*_fastqc.html"
   ]
  },
  {
   "cell_type": "code",
   "execution_count": null,
   "metadata": {
    "id": "download-results"
   },
   "outputs": [],
   "source": [
    "# Create a downloadable zip of all results\n",
    "print(\"📦 Creating downloadable results package...\")\n",
    "!zip -r RNA_seq_QC_results.zip results/qc/\n",
    "\n",
    "print(\"✅ Results package created: RNA_seq_QC_results.zip\")\n",
    "print(\"\\n📥 To download your results:\")\n",
    "print(\"   1. Click the folder icon on the left sidebar\")\n",
    "print(\"   2. Find 'RNA_seq_QC_results.zip'\")\n",
    "print(\"   3. Right-click and select 'Download'\")\n",
    "print(\"\")\n",
    "print(\"🖥️ Then open the HTML files on your computer to view the reports!\")\n",
    "\n",
    "# Show file sizes\n",
    "print(\"\\n📏 Your results package:\")\n",
    "!ls -lh RNA_seq_QC_results.zip"
   ]
  },
  {
   "cell_type": "markdown",
   "metadata": {
    "id": "interpretation-guide"
   },
   "source": [
    "---\n",
    "\n",
    "# 🎓 Step 6: Understanding Your Results\n",
    "\n",
    "## Key Quality Metrics to Understand:\n",
    "\n",
    "### ✅ **Per-base Sequence Quality**\n",
    "- **Green zone (>28)**: Excellent quality\n",
    "- **Yellow zone (20-28)**: Good quality  \n",
    "- **Red zone (<20)**: Poor quality\n",
    "- **Normal pattern**: Slight decline toward 3' end\n",
    "\n",
    "### ⚠️ **Sequence Duplication Levels**\n",
    "- **RNA-seq expectation**: 15-30% duplication is normal\n",
    "- **Why**: Highly expressed genes create many identical reads\n",
    "- **Concern level**: >50% suggests problems\n",
    "\n",
    "### 🔍 **Adapter Content**\n",
    "- **Our data**: ~5% adapter contamination (educational)\n",
    "- **Real decision**: >10% usually needs trimming\n",
    "- **Learning point**: Adapter detection is crucial\n",
    "\n",
    "### 📊 **GC Content**\n",
    "- **Expected**: Species-specific distribution\n",
    "- **Human**: ~41% average GC content\n",
    "- **Interpretation**: Major deviations suggest contamination\n",
    "\n",
    "## 🎯 What This Means for Your Data:\n",
    "\n",
    "Based on our tutorial dataset, you should see:\n",
    "- ✅ Generally high quality scores\n",
    "- ⚠️ Some educational warnings for learning\n",
    "- 📈 Realistic patterns you'll see in real data\n",
    "- 🚀 Data suitable for downstream analysis\n",
    "\n",
    "**🏆 Congratulations! You've successfully completed your first bioinformatics quality control analysis!**"
   ]
  },
  {
   "cell_type": "markdown",
   "metadata": {
    "id": "claude-workflow"
   },
   "source": [
    "---\n",
    "\n",
    "# 🤖 Step 7: How Claude Code Enhances This Workflow\n",
    "\n",
    "In a real research environment, Claude Code would help at every step:\n",
    "\n",
    "## 🔄 **Planning Phase**\n",
    "```\n",
    "You: \"I have RNA-seq data and need to assess quality\"\n",
    "Claude: \"I'll guide you through QC with FastQC and MultiQC...\"\n",
    "```\n",
    "\n",
    "## ⚙️ **Command Generation**\n",
    "```\n",
    "You: \"Create commands for quality control\"\n",
    "Claude: \"Here are the optimized commands for your data...\"\n",
    "```\n",
    "\n",
    "## 📊 **Result Interpretation**\n",
    "```\n",
    "You: \"What do these quality scores mean?\"\n",
    "Claude: \"Based on your results, here's what I see...\"\n",
    "```\n",
    "\n",
    "## 🚀 **Next Steps**\n",
    "```\n",
    "You: \"What should I do next?\"\n",
    "Claude: \"Based on your QC, I recommend...\"\n",
    "```\n",
    "\n",
    "**💡 The Power**: Claude Code combines bioinformatics expertise with AI assistance, making complex analyses accessible to researchers at all levels."
   ]
  },
  {
   "cell_type": "markdown",
   "metadata": {
    "id": "next-steps"
   },
   "source": [
    "---\n",
    "\n",
    "# 🎯 Step 8: Next Steps in Your Learning Journey\n",
    "\n",
    "## 🏆 What You've Accomplished\n",
    "- ✅ Set up a complete bioinformatics environment\n",
    "- ✅ Processed real RNA-seq data with industry-standard tools\n",
    "- ✅ Generated publication-quality quality control reports\n",
    "- ✅ Learned to interpret key bioinformatics metrics\n",
    "- ✅ Experienced the complete workflow from data to results\n",
    "\n",
    "## 🚀 Ready for More Advanced Learning\n",
    "\n",
    "### **Immediate Next Steps**:\n",
    "1. **[Module 1.2: Understanding Your Results](../02-understanding-results/)** - Deep dive into QC interpretation\n",
    "2. **[Module 1.3: Variant Calling Walkthrough](../03-variant-calling/)** - Apply skills to different analysis\n",
    "\n",
    "### **When You're Ready for Local Setup**:\n",
    "- **[Claude Code Best Practices](https://github.com/shandley/claude-for-bioinformatics/blob/master/claude-code-best-practices.md)** - Set up on your computer\n",
    "- **[Complete SOP Guide](https://github.com/shandley/claude-for-bioinformatics/blob/master/Claude_Code_Bioinformatics_SOP.md)** - Production workflows\n",
    "\n",
    "### **Advanced Learning Tracks**:\n",
    "- **[Enhanced Educational Plan](https://github.com/shandley/claude-for-bioinformatics/blob/master/ENHANCED_EDUCATIONAL_PLAN.md)** - Complete learning roadmap\n",
    "- **[Project Templates](https://github.com/shandley/claude-for-bioinformatics/tree/master/project-templates)** - Ready-to-use analysis structures\n",
    "\n",
    "## 💬 Get Help and Share Success\n",
    "- **Questions**: [GitHub Discussions](https://github.com/shandley/claude-for-bioinformatics/discussions)\n",
    "- **Issues**: [Report Problems](https://github.com/shandley/claude-for-bioinformatics/issues)\n",
    "- **Community**: Share your results and learn from others!\n",
    "\n",
    "**🎉 Welcome to the world of AI-assisted bioinformatics!**"
   ]
  },
  {
   "cell_type": "markdown",
   "metadata": {
    "id": "summary"
   },
   "source": [
    "---\n",
    "\n",
    "# 📝 Session Summary\n",
    "\n",
    "## 🔬 Technical Skills Gained:\n",
    "- Bioinformatics environment setup and tool installation\n",
    "- FASTQ file format understanding and manipulation\n",
    "- FastQC and MultiQC usage for quality control\n",
    "- Quality metric interpretation and decision-making\n",
    "- Professional workflow organization and documentation\n",
    "\n",
    "## 🤖 Claude Code Integration Points:\n",
    "- Workflow planning and optimization\n",
    "- Command generation and parameter selection\n",
    "- Result interpretation and next-step recommendations\n",
    "- Troubleshooting and problem-solving assistance\n",
    "\n",
    "## 📊 Real-World Applications:\n",
    "- Quality assessment for any RNA-seq project\n",
    "- Data preprocessing decision-making\n",
    "- Publication-ready quality control reporting\n",
    "- Team collaboration and result sharing\n",
    "\n",
    "---\n",
    "\n",
    "**🎓 Congratulations on completing Module 1.1!**\n",
    "\n",
    "*You've taken your first step into AI-assisted bioinformatics. The skills you've learned here form the foundation for all advanced genomics analyses.*\n",
    "\n",
    "**⭐ If this tutorial was helpful, please star the [GitHub repository](https://github.com/shandley/claude-for-bioinformatics) to help others discover it!**"
   ]
  }
 ],
 "metadata": {
  "colab": {
   "provenance": [],
   "toc_visible": true
  },
  "kernelspec": {
   "display_name": "Python 3",
   "name": "python3"
  },
  "language_info": {
   "name": "python"
  }
 },
 "nbformat": 4,
 "nbformat_minor": 0
}